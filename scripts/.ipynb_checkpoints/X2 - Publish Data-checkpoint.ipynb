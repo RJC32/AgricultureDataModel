{
 "cells": [
  {
   "cell_type": "markdown",
   "metadata": {},
   "source": [
    "# Publish Data"
   ]
  },
  {
   "cell_type": "markdown",
   "metadata": {},
   "source": [
    "Publish the data structure to ArcGIS Online"
   ]
  },
  {
   "cell_type": "markdown",
   "metadata": {},
   "source": [
    "#### Import Statements"
   ]
  },
  {
   "cell_type": "code",
   "execution_count": null,
   "metadata": {},
   "outputs": [],
   "source": [
    "# import the arcpy libary\n",
    "import arcpy\n",
    "arcpy.env.overwriteOutput = True\n",
    "\n",
    "import arcgis\n",
    "gis = arcgis.gis.GIS(profile=\"ag\")\n",
    "#password = getpass('Password: ')\n",
    "#arcpy.SignInToPortal('https://www.arcgis.com', 'ag_svcs', password)\n",
    "\n",
    "# import other modules\n",
    "import json\n",
    "import copy\n",
    "import os\n",
    "from getpass import getpass"
   ]
  },
  {
   "cell_type": "markdown",
   "metadata": {},
   "source": [
    "#### Set paths and load in Data Model"
   ]
  },
  {
   "cell_type": "code",
   "execution_count": null,
   "metadata": {},
   "outputs": [],
   "source": [
    "basePath = r'C:\\Users\\rjc.EAGLE\\Documents\\GitHub\\AgricultureDataModel'\n",
    "\n",
    "data = {}\n",
    "data.update(json.load(open('{0}\\\\json\\\\{1}.json'.format(basePath, 'datamodel'))))\n",
    "data"
   ]
  },
  {
   "cell_type": "code",
   "execution_count": null,
   "metadata": {},
   "outputs": [],
   "source": [
    "aprx = arcpy.mp.ArcGISProject('{0}\\\\publsih\\\\{1}.json'.format(basePath, 'publish'))\n",
    "publishMap = aprx.listMaps('Map')[0]\n",
    "\n",
    "n = 0\n",
    "for service in data['services']:\n",
    "    \n",
    "    print(service['name'])    \n",
    "    serviceName = service['name']\n",
    "    serviceDefinitionDraftPath = '{0}\\\\{1}.sddraft'.format(base, serviceName)\n",
    "    serviceDefinitionPath = '{0}\\\\{1}.sd'.format(base, serviceName)\n",
    "    \n",
    "    layers = publishMap.listLayers()\n",
    "    for layer in layers:\n",
    "        publishMap.removeLayer(layer)\n",
    "    \n",
    "    tables = publishMap.listTables()\n",
    "    for table in tables:\n",
    "        publishMap.removeTable(table)\n",
    "        \n",
    "    for layer in service['layers'][::-1]:\n",
    "        path = '{0}\\\\{1}.gdb\\\\{2}'.format(base, serviceName, layer['name'])\n",
    "        publishMap.addDataFromPath(path)\n",
    "        \n",
    "    for table in service['tables'][::-1]:\n",
    "        path = '{0}\\\\{1}.gdb\\\\{2}'.format(base, serviceName, table)\n",
    "        publishMap.addDataFromPath(path)\n",
    "        \n",
    "    layers = publishMap.listLayers()\n",
    "    tables = publishMap.listTables()\n",
    "    items = layers + tables\n",
    "    aprx.save()\n",
    "    \n",
    "    serviceDefinitionDraft = publishMap.getWebLayerSharingDraft('HOSTING_SERVER', \"FEATURE\", serviceName, items)\n",
    "    \n",
    "    serviceDefinitionDraft.credits = \"These are credits\"\n",
    "    serviceDefinitionDraft.description = \"This is description\"\n",
    "    serviceDefinitionDraft.summary = \"This is summary\"\n",
    "    serviceDefinitionDraft.tags = \"tag1, tag2\"\n",
    "    serviceDefinitionDraft.useLimitations = \"These are use limitations\"\n",
    "    serviceDefinitionDraft.portalFolder = \"Farm Data\"\n",
    "    serviceDefinitionDraft.allowExporting = False\n",
    "    serviceDefinitionDraft.enableEditing = True\n",
    "    serviceDefinitionDraft.enableSync = True\n",
    "\n",
    "    serviceDefinitionDraft.exportToSDDraft(serviceDefinitionDraftPath)\n",
    "    \n",
    "    print(\"  - staging\")\n",
    "    staged = arcpy.StageService_server(serviceDefinitionDraftPath, serviceDefinitionPath)\n",
    "    print(\"    + completed\")\n",
    "\n",
    "    # Share to portal\n",
    "    print(\"  - uploading\")\n",
    "    uploaded = arcpy.UploadServiceDefinition_server(serviceDefinitionPath, 'HOSTING_SERVER')\n",
    "    data['services'][n]['id'] = uploaded.getOutput(3)\n",
    "    #data['services'][n]['id'] = '5b95c6173a264b6bbe9f573e45569dca'\n",
    "    n+=1\n",
    "    print(\"    + completed\")"
   ]
  },
  {
   "cell_type": "code",
   "execution_count": null,
   "metadata": {},
   "outputs": [],
   "source": [
    "dataModelOutput = '{0}\\\\{1}.json'.format(output, 'datamodeloutput')\n",
    "with open(dataModelOutput, \"w\") as file:\n",
    "    json.dump(data, file)"
   ]
  },
  {
   "cell_type": "code",
   "execution_count": null,
   "metadata": {},
   "outputs": [],
   "source": []
  }
 ],
 "metadata": {
  "kernelspec": {
   "display_name": "Python 3",
   "language": "python",
   "name": "python3"
  },
  "language_info": {
   "codemirror_mode": {
    "name": "ipython",
    "version": 3
   },
   "file_extension": ".py",
   "mimetype": "text/x-python",
   "name": "python",
   "nbconvert_exporter": "python",
   "pygments_lexer": "ipython3",
   "version": "3.7.10"
  }
 },
 "nbformat": 4,
 "nbformat_minor": 4
}
