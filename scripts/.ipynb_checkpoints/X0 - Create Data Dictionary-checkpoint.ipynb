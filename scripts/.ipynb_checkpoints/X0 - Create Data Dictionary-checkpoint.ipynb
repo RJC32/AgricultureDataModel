{
 "cells": [
  {
   "cell_type": "markdown",
   "metadata": {},
   "source": [
    "# Create Data Dictionary"
   ]
  },
  {
   "cell_type": "markdown",
   "metadata": {},
   "source": [
    "Export the Farm Data Model as an Excel Spread Sheet"
   ]
  },
  {
   "cell_type": "markdown",
   "metadata": {},
   "source": [
    "#### Import statments"
   ]
  },
  {
   "cell_type": "code",
   "execution_count": null,
   "metadata": {},
   "outputs": [],
   "source": [
    "import json\n",
    "import csv"
   ]
  },
  {
   "cell_type": "markdown",
   "metadata": {},
   "source": [
    "#### Set paths and load in Data Model"
   ]
  },
  {
   "cell_type": "code",
   "execution_count": null,
   "metadata": {},
   "outputs": [],
   "source": [
    "basePath = r'C:\\Users\\rjc.EAGLE\\Documents\\GitHub\\AgricultureDataModel'\n",
    "\n",
    "data = {}\n",
    "data.update(json.load(open('{0}\\\\json\\\\{1}.json'.format(basePath, 'datamodel'))))\n",
    "data.update(json.load(open('{0}\\\\json\\\\{1}.json'.format(basePath, 'tables'))))\n",
    "data.update(json.load(open('{0}\\\\json\\\\{1}.json'.format(basePath, 'domains'))))"
   ]
  },
  {
   "cell_type": "markdown",
   "metadata": {},
   "source": [
    "#### Export to Excel"
   ]
  },
  {
   "cell_type": "code",
   "execution_count": null,
   "metadata": {},
   "outputs": [],
   "source": [
    "headers = ['Service Name', 'Layer Name', 'Field Name', 'Codes', 'Type']\n",
    "csvRow = []\n",
    "csvRow.append(headers)\n",
    "csvRow.append(' ')\n",
    "\n",
    "for service in data['services']:\n",
    "    \n",
    "    print(service['alias'])\n",
    "    csvRow.append([service['alias']])\n",
    "    csvRow.append(' ')\n",
    "    \n",
    "    for layer in service['layers']:\n",
    "        \n",
    "        children = '; '.join([x.replace('_', ' ').title() for x in layer['children']])\n",
    "        \n",
    "        print('  - {0}'.format(layer['alias']))   \n",
    "        print('    - Children: {0}'.format(children))\n",
    "        \n",
    "        csvRow.append([' ', layer['alias']])\n",
    "        csvRow.append([' ', ' ', 'Children', children])\n",
    "        \n",
    "        if layer['fields'] != None:\n",
    "            \n",
    "            for field in layer['fields']:\n",
    "\n",
    "                domains = [x for x in data['domains'] if field['domain'] == x['name']]\n",
    "                if domains != []:\n",
    "                    codes = list(domains[0]['codes'].values())\n",
    "                else:\n",
    "                    codes = '-'\n",
    "\n",
    "                print('     - {0}: {1} | {2}'.format(field['alias'], '; '.join(codes), field['type']))\n",
    "                csvRow.append([' ', ' ', field['alias'], '; '.join(codes), field['type']])\n",
    "                \n",
    "        else:\n",
    "            \n",
    "            table = [x for x in data['tables'] if layer['master'] == x['name']][0]\n",
    "            \n",
    "            for field in table['fields']:\n",
    "\n",
    "                domains = [x for x in data['domains'] if field['domain'] == x['name']]\n",
    "                if domains != []:\n",
    "                    codes = list(domains[0]['codes'].values())\n",
    "                else:\n",
    "                    codes = '-'\n",
    "\n",
    "                print('     - {0}: {1} | {2}'.format(field['alias'], '; '.join(codes), field['type']))\n",
    "                csvRow.append([' ', ' ', field['alias'], '; '.join(codes), field['type']])            \n",
    "        \n",
    "            \n",
    "        csvRow.append(' ')        \n",
    "        print(' ')  \n",
    "        \n",
    "           \n",
    "print('Common Tables')\n",
    "csvRow.append(['Common Tables'])\n",
    "csvRow.append(' ')\n",
    "\n",
    "for table in data['tables']:\n",
    "\n",
    "    print('  - {0}'.format(table['alias']))   \n",
    "    csvRow.append([' ', table['alias']])\n",
    "\n",
    "    for field in table['fields']:\n",
    "\n",
    "        domains = [x for x in data['domains'] if field['domain'] == x['name']]\n",
    "        if domains != []:\n",
    "            codes = list(domains[0]['codes'].values())\n",
    "        else:\n",
    "            codes = '-'\n",
    "\n",
    "        print('     - {0}: {1} | {2}'.format(field['alias'], '; '.join(codes), field['type']))\n",
    "        csvRow.append([' ', ' ', field['alias'], '; '.join(codes), field['type']])    \n",
    "\n",
    "    csvRow.append(' ')        \n",
    "    print(' ')  \n",
    "    \n",
    "        \n",
    "outputFile = '{0}\\\\{1}.csv'.format(base, 'datadictionary')\n",
    "with open(outputFile, 'w', newline='', encoding='utf-8') as file:\n",
    "    writer = csv.writer(file)\n",
    "    writer.writerows(csvRow)"
   ]
  },
  {
   "cell_type": "code",
   "execution_count": null,
   "metadata": {},
   "outputs": [],
   "source": []
  }
 ],
 "metadata": {
  "kernelspec": {
   "display_name": "Python 3",
   "language": "python",
   "name": "python3"
  },
  "language_info": {
   "codemirror_mode": {
    "name": "ipython",
    "version": 3
   },
   "file_extension": ".py",
   "mimetype": "text/x-python",
   "name": "python",
   "nbconvert_exporter": "python",
   "pygments_lexer": "ipython3",
   "version": "3.7.10"
  }
 },
 "nbformat": 4,
 "nbformat_minor": 4
}
