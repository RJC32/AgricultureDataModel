{
 "cells": [
  {
   "cell_type": "markdown",
   "metadata": {},
   "source": [
    "# Initial Visualisation Update"
   ]
  },
  {
   "cell_type": "markdown",
   "metadata": {},
   "source": [
    "Update the recently published data with the desired visualisation"
   ]
  },
  {
   "cell_type": "markdown",
   "metadata": {},
   "source": [
    "#### Import statments"
   ]
  },
  {
   "cell_type": "code",
   "execution_count": 1,
   "metadata": {},
   "outputs": [],
   "source": [
    "import arcgis\n",
    "gis = arcgis.gis.GIS(profile=\"ag\")\n",
    "\n",
    "# import other modules\n",
    "import json"
   ]
  },
  {
   "cell_type": "markdown",
   "metadata": {},
   "source": [
    "#### Set paths and load in Data Model"
   ]
  },
  {
   "cell_type": "code",
   "execution_count": 2,
   "metadata": {},
   "outputs": [],
   "source": [
    "basePath = r'C:\\Users\\rjc.EAGLE\\Documents\\GitHub\\AgricultureDataModel'\n",
    "\n",
    "data = {}\n",
    "data.update(json.load(open('{0}\\\\json\\\\{1}.json'.format(basePath, 'datamodel'))))\n",
    "data"
   ]
  },
  {
   "cell_type": "code",
   "execution_count": 4,
   "metadata": {},
   "outputs": [
    {
     "name": "stdout",
     "output_type": "stream",
     "text": [
      "administrative_information\n",
      "    access_points\n",
      "    blocks\n",
      "    site\n",
      "    holding\n",
      " \n",
      "structures\n",
      "    production_structures\n",
      "    storage_structures\n",
      "    service_structures\n",
      "    management_structures\n",
      "    waste_structures\n",
      " \n",
      "operations\n",
      "    operational_points\n",
      "    operational_lines\n",
      "    operational_areas\n",
      " \n",
      "transport\n",
      "    transport_node\n",
      "    transport_network\n",
      " \n",
      "electric_utilities\n",
      "    electric_device\n",
      "    electric_junction\n",
      "    electric_structure\n",
      "    electric_network\n",
      " \n",
      "water_utilities\n",
      "    water_device\n",
      "    water_junction\n",
      "    water_structure\n",
      "    water_network\n",
      " \n",
      "effluent_utilities\n",
      "    effluent_device\n",
      "    effluent_junction\n",
      "    effluent_network\n",
      " \n",
      "topographic_features\n",
      "    topographic_points\n",
      "    topographic_lines\n",
      "    topographic_areas\n",
      " \n",
      "miscellaneous\n",
      "    point_of_interest\n",
      "    line_of_interest\n",
      "    area_of_interest\n",
      " \n",
      "water\n",
      "    waterways\n",
      "    waterbodies\n",
      "    catchment\n",
      " \n",
      "land\n",
      "    slope\n",
      " \n",
      "insights\n",
      "    instruments\n",
      "    field_measurement\n",
      " \n",
      "activities\n",
      "    point_activities\n",
      "    line_activities\n",
      "    polygon_activities\n",
      " \n",
      "health_and_safety\n",
      "    point_hazards\n",
      "    line_hazards\n",
      "    polygon_hazards\n",
      "    incidents\n",
      " \n"
     ]
    }
   ],
   "source": [
    "for service in data['services']:    \n",
    "    \n",
    "    serviceName = service['name']\n",
    "    print(service['name'])\n",
    "    itemID = service['id']\n",
    "    item = gis.content.get(itemID)\n",
    "  \n",
    "    n = 0\n",
    "    for layer in service['layers']:\n",
    "\n",
    "        print('    {0}'.format(layer['name']))\n",
    "\n",
    "        #drawingInfo = item.layers[n].properties['drawingInfo']\n",
    "        #popupInfo = item.get_data()['layers'][n]['popupInfo']\n",
    "        #print(popupInfo)\n",
    "        drawingInfo = layer['drawingInfo'] \n",
    "        \n",
    "        item.layers[n].manager.update_definition({'drawingInfo': drawingInfo})\n",
    "        n += 1\n",
    "    print(' ')\n"
   ]
  },
  {
   "cell_type": "code",
   "execution_count": null,
   "metadata": {},
   "outputs": [],
   "source": [
    "#             #drawingInfo['renderer']['symbol']['color'] = [32, 32, 32, 255]\n",
    "#             popupInfo['title'] = '{class} {expression/displayName}'\n",
    "#             popupInfo['description'] = '<table>\\n  <tbody><tr>\\n    <th>Company</th>\\n    <th>Contact</th>\\n    <th>Country</th>\\n  </tr>\\n  <tr>\\n    <td>Alfreds Futterkiste</td>\\n    <td>Maria Anders</td>\\n    <td>Germany</td>\\n  </tr>\\n  <tr>\\n    <td>Centro comercial Moctezuma</td>\\n    <td>Francisco Chang</td>\\n    <td>Mexico</td>\\n  </tr>\\n</tbody></table>'\n",
    "#             popupInfo['showAttachments'] = True\n",
    "#             popupInfo['showLastEditInfo'] = False\n",
    "#             popupInfo['relatedRecordsInfo'] = {'showRelatedRecords': True}\n",
    "#             popupInfo['expressionInfos'] = [{'name': 'displayName', 'title': 'Display Name', 'expression': 'var name = $feature.name\\nif (name != Null){\\n    return \"(\" + name + \")\"\\n}', 'returnType': 'string'}]\n"
   ]
  }
 ],
 "metadata": {
  "kernelspec": {
   "display_name": "Python 3",
   "language": "python",
   "name": "python3"
  },
  "language_info": {
   "codemirror_mode": {
    "name": "ipython",
    "version": 3
   },
   "file_extension": ".py",
   "mimetype": "text/x-python",
   "name": "python",
   "nbconvert_exporter": "python",
   "pygments_lexer": "ipython3",
   "version": "3.7.10"
  }
 },
 "nbformat": 4,
 "nbformat_minor": 4
}
