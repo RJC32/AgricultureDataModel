{
 "cells": [
  {
   "cell_type": "markdown",
   "metadata": {},
   "source": [
    "# Create Data Structure"
   ]
  },
  {
   "cell_type": "markdown",
   "metadata": {},
   "source": [
    "Using the data model json, create a structure as file geodatabase"
   ]
  },
  {
   "cell_type": "markdown",
   "metadata": {},
   "source": [
    "#### Import statements"
   ]
  },
  {
   "cell_type": "code",
   "execution_count": null,
   "metadata": {},
   "outputs": [],
   "source": [
    "# import the arcpy libary\n",
    "import arcpy\n",
    "arcpy.env.overwriteOutput = True\n",
    "\n",
    "# import other modules\n",
    "import json\n",
    "import copy\n",
    "\n",
    "# set default spatial reference\n",
    "sr = arcpy.SpatialReference(r'C:\\Users\\rjc.EAGLE\\AppData\\Local\\ESRI\\ArcGISPro\\Favorites\\NZGD 2000 New Zealand Transverse Mercator.prj')"
   ]
  },
  {
   "cell_type": "markdown",
   "metadata": {},
   "source": [
    "#### Set paths and load in Data Model"
   ]
  },
  {
   "cell_type": "code",
   "execution_count": null,
   "metadata": {},
   "outputs": [],
   "source": [
    "basePath = r'C:\\Users\\rjc.EAGLE\\Documents\\GitHub\\AgricultureDataModel'\n",
    "arcpy.env.workspace = basePath\n",
    "\n",
    "data = {}\n",
    "data.update(json.load(open('{0}\\\\{1}.json'.format(base, 'datamodel'))))\n",
    "data.update(json.load(open('{0}\\\\{1}.json'.format(base, 'tables'))))\n",
    "data.update(json.load(open('{0}\\\\{1}.json'.format(base, 'domains'))))"
   ]
  },
  {
   "cell_type": "code",
   "execution_count": null,
   "metadata": {},
   "outputs": [],
   "source": [
    "def createItems(workspace, item):   \n",
    "    if item['type'] == 'TABLE':        \n",
    "        result = arcpy.management.CreateTable(workspace, item['name'], out_alias=item['alias'])        \n",
    "    else:\n",
    "        result = arcpy.management.CreateFeatureclass(workspace, item['name'], item['type'], spatial_reference=sr, out_alias=item['alias'])\n",
    "    itemFields = item['fields']\n",
    "    if itemFields != None:\n",
    "        fields = itemFields\n",
    "    else:\n",
    "        table = [x for x in data['tables'] if item['master'] == x['name']][0]\n",
    "        fields = table['fields']\n",
    "    for field in fields:    \n",
    "        arcpy.management.AddField(result, field['name'], field['type'], field_length=field['length'], field_alias=field['alias'], field_domain=field['domain'])\n",
    "        if field['name'] == 'status':\n",
    "            arcpy.management.AssignDefaultToField(result, field['name'], \"Current\")\n",
    "        \n",
    "    arcpy.management.AddGlobalIDs(result)\n",
    "    print(\"    + {0}\".format(item['name']))\n",
    "\n",
    "def createRelationships(workspace, item):  \n",
    "    origin_table = '{0}\\\\{1}'.format(workspace, item['name'])     \n",
    "    parent_id = 'parent_{0}_id'.format(item['name'])\n",
    "    parent_alias = 'Parent {0} ID'.format(item['name'].replace('_', ' '))\n",
    "    children = item['children']\n",
    "    for child in children:\n",
    "        child_path = '{0}\\\\{1}'.format(workspace, child)       \n",
    "        relationship_class = '{0}_{1}'.format(item['name'], child)\n",
    "        arcpy.management.AddField(child_path, parent_id, 'GUID') \n",
    "        arcpy.management.CreateRelationshipClass(origin_table, child_path, relationship_class, 'Simple', child, item['name'], None, 'ONE_TO_MANY', None, 'GlobalID', parent_id)  \n",
    "    print(\"    + {0}\".format(item['name']))\n",
    "        \n",
    "def enableEditorTracking(workspace, item): \n",
    "    in_table = '{0}\\\\{1}'.format(workspace, item['name'])\n",
    "    arcpy.management.AddField(in_table, field_name='creator', field_type='TEXT', field_alias='Creator')\n",
    "    arcpy.management.AddField(in_table, field_name='creation_date', field_type='DATE', field_alias='Creation Date')\n",
    "    arcpy.management.AddField(in_table, field_name='last_editor', field_type='TEXT', field_alias='Last Editor')\n",
    "    arcpy.management.AddField(in_table, field_name='last_edit_date', field_type='DATE', field_alias='Last Edit Date')\n",
    "    arcpy.management.EnableEditorTracking(in_table, 'creator', 'creation_date', 'last_editor', 'last_edit_date') \n",
    "    arcpy.management.EnableAttachments(in_table)\n",
    "    print(\"    + {0}\".format(item['name']))"
   ]
  },
  {
   "cell_type": "code",
   "execution_count": null,
   "metadata": {
    "scrolled": true
   },
   "outputs": [],
   "source": [
    "existing_workspaces = arcpy.ListWorkspaces(\"*\", \"FileGDB\")\n",
    "\n",
    "for service in data['services']:\n",
    "    \n",
    "    print(service['name'])\n",
    "    \n",
    "    # creat the workspace, this will overwrite the existing workspaces\n",
    "    workspace = arcpy.CreateFileGDB_management(output, \"{0}.gdb\".format(service['name'])).getOutput(0)\n",
    "    arcpy.env.workspace = workspace\n",
    "    \n",
    "    print(\"  - creating domains\")\n",
    "    #existing_domains = [x.name for x in arcpy.da.ListDomains(workspace)]  \n",
    "    domains = [x for x in data['domains'] if service['name'] in x['workspace'] or '*' == x['workspace'][0]]\n",
    "    for domain in domains:\n",
    "        arcpy.management.CreateDomain(workspace, domain['name'], domain['description'], domain['field_type'], domain['domain_type'])\n",
    "        for code in domain['codes']:\n",
    "            arcpy.AddCodedValueToDomain_management(workspace, domain['name'], code, domain['codes'][code])\n",
    "    print(\"    + completed\")\n",
    "    \n",
    "    # create the tables\n",
    "    print(\"  - creating tables\")\n",
    "    tables = [x for x in data['tables'] if x['name'] in service['tables']]\n",
    "    for table in tables:        \n",
    "        createItems(workspace, table)\n",
    "           \n",
    "    # create items\n",
    "    print(\"  - creating items\")\n",
    "    layers = service['layers']\n",
    "    for item in layers:        \n",
    "        createItems(workspace, item) \n",
    "       \n",
    "    # create relationships\n",
    "    print(\"  - creating relationships\")\n",
    "    for item in layers:        \n",
    "        createRelationships(workspace, item)  \n",
    "        \n",
    "    # enable editor tracking\n",
    "    print(\"  - enabling editor tracking\")\n",
    "    for item in layers:        \n",
    "        enableEditorTracking(workspace, item)  \n",
    "        \n",
    "    print(' ')\n"
   ]
  },
  {
   "cell_type": "code",
   "execution_count": null,
   "metadata": {},
   "outputs": [],
   "source": []
  }
 ],
 "metadata": {
  "kernelspec": {
   "display_name": "Python 3",
   "language": "python",
   "name": "python3"
  },
  "language_info": {
   "codemirror_mode": {
    "name": "ipython",
    "version": 3
   },
   "file_extension": ".py",
   "mimetype": "text/x-python",
   "name": "python",
   "nbconvert_exporter": "python",
   "pygments_lexer": "ipython3",
   "version": "3.7.10"
  }
 },
 "nbformat": 4,
 "nbformat_minor": 4
}
