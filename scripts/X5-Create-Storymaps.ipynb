{
 "cells": [
  {
   "cell_type": "markdown",
   "metadata": {},
   "source": [
    "# Create Storymaps"
   ]
  },
  {
   "cell_type": "markdown",
   "metadata": {},
   "source": [
    "### Set Up"
   ]
  },
  {
   "cell_type": "code",
   "execution_count": 1,
   "metadata": {},
   "outputs": [],
   "source": [
    "import arcgis\n",
    "gis = arcgis.gis.GIS(profile=\"ag\")\n",
    "\n",
    "base = r'C:\\Users\\rjc.EAGLE\\Documents\\ArcGIS\\Projects\\Farm-Data-Model\\datamodel'\n",
    "\n",
    "# import modules\n",
    "import json\n",
    "import copy\n",
    "import os\n",
    "from getpass import getpass\n",
    "\n",
    "from arcgis.geometry import Geometry\n",
    "from arcgis.features import FeatureLayerCollection"
   ]
  },
  {
   "cell_type": "code",
   "execution_count": 7,
   "metadata": {},
   "outputs": [
    {
     "data": {
      "text/plain": [
       "{'root': 'n-Oq1vCg',\n",
       " 'nodes': {'n-w2Q8LD': {'type': 'storycover',\n",
       "   'data': {'type': 'minimal',\n",
       "    'title': 'Test',\n",
       "    'summary': 'how cool is python',\n",
       "    'byline': 'Ryan Cooper',\n",
       "    'titlePanelPosition': 'start'}},\n",
       "  'n-NycJq7': {'type': 'navigation',\n",
       "   'data': {'links': []},\n",
       "   'config': {'isHidden': True}},\n",
       "  'n-LoRsNy': {'type': 'webmap',\n",
       "   'data': {'map': 'r-5e3b3a6d1d6447958d89c308a33e45eb',\n",
       "    'caption': 'U wanna go cuz?'}},\n",
       "  'n-xF39hs': {'type': 'text', 'data': {'text': '', 'type': 'h4'}},\n",
       "  'n-FhUzPt': {'type': 'text',\n",
       "   'data': {'text': 'this is some text', 'type': 'paragraph'}},\n",
       "  'n-ZWsd7Z': {'type': 'attribution',\n",
       "   'data': {'content': '', 'attribution': ''}},\n",
       "  'n-rSKFB1': {'type': 'credits',\n",
       "   'children': ['n-xF39hs', 'n-FhUzPt', 'n-ZWsd7Z']},\n",
       "  'n-Oq1vCg': {'type': 'story',\n",
       "   'data': {'storyTheme': 'r-aNiReL'},\n",
       "   'config': {'coverDate': 'first-published'},\n",
       "   'children': ['n-w2Q8LD', 'n-NycJq7', 'n-LoRsNy', 'n-rSKFB1']}},\n",
       " 'resources': {'r-63a1f292464f49e3be994fe0d598986e': {'type': 'webmap',\n",
       "   'data': {'extent': {'spatialReference': {'latestWkid': 3857,\n",
       "      'wkid': 102100},\n",
       "     'xmin': -71432.75969843859,\n",
       "     'ymin': 6758526.311609101,\n",
       "     'xmax': -68740.74310844911,\n",
       "     'ymax': 6760040.72023204},\n",
       "    'center': {'spatialReference': {'latestWkid': 3857, 'wkid': 102100},\n",
       "     'x': -70086.75140344385,\n",
       "     'y': 6759283.51592057},\n",
       "    'zoom': 16,\n",
       "    'viewpoint': {'rotation': 0,\n",
       "     'scale': 9027.977411,\n",
       "     'targetGeometry': {'spatialReference': {'latestWkid': 3857,\n",
       "       'wkid': 102100},\n",
       "      'x': -70086.75140344385,\n",
       "      'y': 6759283.51592057}},\n",
       "    'mapLayers': [{'id': '3d4ef70fba394dcfa12fa2837c1e383e',\n",
       "      'title': 'Trees',\n",
       "      'visible': True},\n",
       "     {'id': '6cdf82d391aa4a98b10c56ad8c410abe',\n",
       "      'title': 'Ineligible Land',\n",
       "      'visible': True},\n",
       "     {'id': '397ec125fdcb45f990ddea12332bd95e',\n",
       "      'title': 'Crops',\n",
       "      'visible': True},\n",
       "     {'id': 'a21c10f22cd14f9c8c3c6c7709b36df5',\n",
       "      'title': 'Land Use',\n",
       "      'visible': True},\n",
       "     {'id': 'd04b958c923f47a89e866c6285d62699',\n",
       "      'title': 'Buildings',\n",
       "      'visible': True}],\n",
       "    'itemId': '63a1f292464f49e3be994fe0d598986e',\n",
       "    'itemType': 'Web Map',\n",
       "    'type': 'default'}},\n",
       "  'r-aNiReL': {'type': 'story-theme',\n",
       "   'data': {'themeId': 'summit', 'themeBaseVariableOverrides': {}}}}}"
      ]
     },
     "execution_count": 7,
     "metadata": {},
     "output_type": "execute_result"
    }
   ],
   "source": [
    "data = {}\n",
    "data.update(json.load(open(r'C:\\Users\\rjc.EAGLE\\Documents\\Files\\Farm-Data-Model\\storymap.json')))\n",
    "data"
   ]
  },
  {
   "cell_type": "code",
   "execution_count": 8,
   "metadata": {},
   "outputs": [
    {
     "data": {
      "text/plain": [
       "dict_keys(['root', 'nodes', 'resources'])"
      ]
     },
     "execution_count": 8,
     "metadata": {},
     "output_type": "execute_result"
    }
   ],
   "source": [
    "data.keys()"
   ]
  },
  {
   "cell_type": "code",
   "execution_count": 17,
   "metadata": {},
   "outputs": [
    {
     "name": "stdout",
     "output_type": "stream",
     "text": [
      "{'type': 'storycover', 'data': {'type': 'minimal', 'title': 'Test', 'summary': 'how cool is python', 'byline': 'Ryan Cooper', 'titlePanelPosition': 'start'}}\n",
      "{'type': 'navigation', 'data': {'links': []}, 'config': {'isHidden': True}}\n",
      "{'type': 'webmap', 'data': {'map': 'r-5e3b3a6d1d6447958d89c308a33e45eb', 'caption': 'U wanna go cuz?'}}\n",
      "{'type': 'text', 'data': {'text': '', 'type': 'h4'}}\n",
      "{'type': 'text', 'data': {'text': 'this is some text', 'type': 'paragraph'}}\n",
      "{'type': 'attribution', 'data': {'content': '', 'attribution': ''}}\n",
      "{'type': 'credits', 'children': ['n-xF39hs', 'n-FhUzPt', 'n-ZWsd7Z']}\n",
      "{'type': 'story', 'data': {'storyTheme': 'r-aNiReL'}, 'config': {'coverDate': 'first-published'}, 'children': ['n-w2Q8LD', 'n-NycJq7', 'n-LoRsNy', 'n-rSKFB1']}\n"
     ]
    }
   ],
   "source": [
    "nodes = data['nodes']\n",
    "for node in nodes:\n",
    "    info = data['nodes'][node]\n",
    "    "
   ]
  },
  {
   "cell_type": "code",
   "execution_count": 19,
   "metadata": {},
   "outputs": [
    {
     "data": {
      "text/html": [
       "<div class=\"item_container\" style=\"height: auto; overflow: hidden; border: 1px solid #cfcfcf; border-radius: 2px; background: #f6fafa; line-height: 1.21429em; padding: 10px;\">\n",
       "                    <div class=\"item_left\" style=\"width: 210px; float: left;\">\n",
       "                       <a href='https://svcs-eaglegis.maps.arcgis.com/home/item.html?id=fda08f292fe14f47bd10c5051174aab5' target='_blank'>\n",
       "                        <img src='data:image/png;base64,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' width='200' height='133' class=\"itemThumbnail\">\n",
       "                       </a>\n",
       "                    </div>\n",
       "\n",
       "                    <div class=\"item_right\"     style=\"float: none; width: auto; overflow: hidden;\">\n",
       "                        <a href='https://svcs-eaglegis.maps.arcgis.com/home/item.html?id=fda08f292fe14f47bd10c5051174aab5' target='_blank'><b>THis is a basic story map </b>\n",
       "                        </a>\n",
       "                        <br/><img src='https://svcs-eaglegis.maps.arcgis.com/home/js/jsapi/esri/css/images/item_type_icons/layers16.png' style=\"vertical-align:middle;\">StoryMap by rjc_svcs\n",
       "                        <br/>Last Modified: January 17, 2022\n",
       "                        <br/>0 comments, 0 views\n",
       "                    </div>\n",
       "                </div>\n",
       "                "
      ],
      "text/plain": [
       "<Item title:\"THis is a basic story map \" type:StoryMap owner:rjc_svcs>"
      ]
     },
     "execution_count": 19,
     "metadata": {},
     "output_type": "execute_result"
    }
   ],
   "source": [
    "item = gis.content.get('fda08f292fe14f47bd10c5051174aab5')\n",
    "item"
   ]
  },
  {
   "cell_type": "code",
   "execution_count": 20,
   "metadata": {},
   "outputs": [
    {
     "data": {
      "text/plain": [
       "[<Item title:\"THis is a basic story map \" type:StoryMap owner:ag_svcs>]"
      ]
     },
     "execution_count": 20,
     "metadata": {},
     "output_type": "execute_result"
    }
   ],
   "source": [
    "gis.content.clone_items([item])"
   ]
  },
  {
   "cell_type": "code",
   "execution_count": 21,
   "metadata": {},
   "outputs": [
    {
     "data": {
      "text/html": [
       "<div class=\"item_container\" style=\"height: auto; overflow: hidden; border: 1px solid #cfcfcf; border-radius: 2px; background: #f6fafa; line-height: 1.21429em; padding: 10px;\">\n",
       "                    <div class=\"item_left\" style=\"width: 210px; float: left;\">\n",
       "                       <a href='https://svcs-eaglegis.maps.arcgis.com/home/item.html?id=32bd5532fa5741e285fe4e1ce3645aa3' target='_blank'>\n",
       "                        <img src='data:image/png;base64,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' width='200' height='133' class=\"itemThumbnail\">\n",
       "                       </a>\n",
       "                    </div>\n",
       "\n",
       "                    <div class=\"item_right\"     style=\"float: none; width: auto; overflow: hidden;\">\n",
       "                        <a href='https://svcs-eaglegis.maps.arcgis.com/home/item.html?id=32bd5532fa5741e285fe4e1ce3645aa3' target='_blank'><b>THis is a basic story map </b>\n",
       "                        </a>\n",
       "                        <br/><img src='https://svcs-eaglegis.maps.arcgis.com/home/js/jsapi/esri/css/images/item_type_icons/layers16.png' style=\"vertical-align:middle;\">StoryMap by ag_svcs\n",
       "                        <br/>Last Modified: January 17, 2022\n",
       "                        <br/>0 comments, 0 views\n",
       "                    </div>\n",
       "                </div>\n",
       "                "
      ],
      "text/plain": [
       "<Item title:\"THis is a basic story map \" type:StoryMap owner:ag_svcs>"
      ]
     },
     "execution_count": 21,
     "metadata": {},
     "output_type": "execute_result"
    }
   ],
   "source": [
    "item = gis.content.get('32bd5532fa5741e285fe4e1ce3645aa3')\n",
    "item"
   ]
  },
  {
   "cell_type": "code",
   "execution_count": 26,
   "metadata": {},
   "outputs": [
    {
     "data": {
      "text/plain": [
       "True"
      ]
     },
     "execution_count": 26,
     "metadata": {},
     "output_type": "execute_result"
    }
   ],
   "source": [
    "#sm.update(item_properties={'title': 'Steve'}, data=smData)\n",
    "item.update(data=data)"
   ]
  },
  {
   "cell_type": "code",
   "execution_count": 27,
   "metadata": {},
   "outputs": [
    {
     "data": {
      "text/plain": [
       "{'root': 'n-Oq1vCg',\n",
       " 'nodes': {'n-w2Q8LD': {'type': 'storycover',\n",
       "   'data': {'type': 'minimal',\n",
       "    'title': 'Test',\n",
       "    'summary': 'how cool is python',\n",
       "    'byline': 'Ryan Cooper',\n",
       "    'titlePanelPosition': 'start'}},\n",
       "  'n-NycJq7': {'type': 'navigation',\n",
       "   'data': {'links': []},\n",
       "   'config': {'isHidden': True}},\n",
       "  'n-LoRsNy': {'type': 'webmap',\n",
       "   'data': {'map': 'r-5e3b3a6d1d6447958d89c308a33e45eb',\n",
       "    'caption': 'U wanna go cuz?'}},\n",
       "  'n-xF39hs': {'type': 'text', 'data': {'text': '', 'type': 'h4'}},\n",
       "  'n-FhUzPt': {'type': 'text',\n",
       "   'data': {'text': 'this is some text', 'type': 'paragraph'}},\n",
       "  'n-ZWsd7Z': {'type': 'attribution',\n",
       "   'data': {'content': '', 'attribution': ''}},\n",
       "  'n-rSKFB1': {'type': 'credits',\n",
       "   'children': ['n-xF39hs', 'n-FhUzPt', 'n-ZWsd7Z']},\n",
       "  'n-Oq1vCg': {'type': 'story',\n",
       "   'data': {'storyTheme': 'r-aNiReL'},\n",
       "   'config': {'coverDate': 'first-published'},\n",
       "   'children': ['n-w2Q8LD', 'n-NycJq7', 'n-LoRsNy', 'n-rSKFB1']}},\n",
       " 'resources': {'r-63a1f292464f49e3be994fe0d598986e': {'type': 'webmap',\n",
       "   'data': {'extent': {'spatialReference': {'latestWkid': 3857,\n",
       "      'wkid': 102100},\n",
       "     'xmin': -71432.75969843859,\n",
       "     'ymin': 6758526.311609101,\n",
       "     'xmax': -68740.74310844911,\n",
       "     'ymax': 6760040.72023204},\n",
       "    'center': {'spatialReference': {'latestWkid': 3857, 'wkid': 102100},\n",
       "     'x': -70086.75140344385,\n",
       "     'y': 6759283.51592057},\n",
       "    'zoom': 16,\n",
       "    'viewpoint': {'rotation': 0,\n",
       "     'scale': 9027.977411,\n",
       "     'targetGeometry': {'spatialReference': {'latestWkid': 3857,\n",
       "       'wkid': 102100},\n",
       "      'x': -70086.75140344385,\n",
       "      'y': 6759283.51592057}},\n",
       "    'mapLayers': [{'id': '3d4ef70fba394dcfa12fa2837c1e383e',\n",
       "      'title': 'Trees',\n",
       "      'visible': True},\n",
       "     {'id': '6cdf82d391aa4a98b10c56ad8c410abe',\n",
       "      'title': 'Ineligible Land',\n",
       "      'visible': True},\n",
       "     {'id': '397ec125fdcb45f990ddea12332bd95e',\n",
       "      'title': 'Crops',\n",
       "      'visible': True},\n",
       "     {'id': 'a21c10f22cd14f9c8c3c6c7709b36df5',\n",
       "      'title': 'Land Use',\n",
       "      'visible': True},\n",
       "     {'id': 'd04b958c923f47a89e866c6285d62699',\n",
       "      'title': 'Buildings',\n",
       "      'visible': True}],\n",
       "    'itemId': '63a1f292464f49e3be994fe0d598986e',\n",
       "    'itemType': 'Web Map',\n",
       "    'type': 'default'}},\n",
       "  'r-aNiReL': {'type': 'story-theme',\n",
       "   'data': {'themeId': 'summit', 'themeBaseVariableOverrides': {}}}}}"
      ]
     },
     "execution_count": 27,
     "metadata": {},
     "output_type": "execute_result"
    }
   ],
   "source": [
    "data"
   ]
  },
  {
   "cell_type": "code",
   "execution_count": 25,
   "metadata": {},
   "outputs": [
    {
     "data": {
      "text/plain": [
       "{'root': 'n-Oq1vCg',\n",
       " 'nodes': {'n-w2Q8LD': {'type': 'storycover',\n",
       "   'data': {'type': 'minimal',\n",
       "    'title': 'Test',\n",
       "    'summary': 'how cool is python',\n",
       "    'byline': 'Ryan Cooper',\n",
       "    'titlePanelPosition': 'start'}},\n",
       "  'n-NycJq7': {'type': 'navigation',\n",
       "   'data': {'links': []},\n",
       "   'config': {'isHidden': True}},\n",
       "  'n-LoRsNy': {'type': 'webmap',\n",
       "   'data': {'map': 'r-5e3b3a6d1d6447958d89c308a33e45eb',\n",
       "    'caption': 'U wanna go cuz?'}},\n",
       "  'n-xF39hs': {'type': 'text', 'data': {'text': '', 'type': 'h4'}},\n",
       "  'n-FhUzPt': {'type': 'text',\n",
       "   'data': {'text': 'this is some text', 'type': 'paragraph'}},\n",
       "  'n-ZWsd7Z': {'type': 'attribution',\n",
       "   'data': {'content': '', 'attribution': ''}},\n",
       "  'n-rSKFB1': {'type': 'credits',\n",
       "   'children': ['n-xF39hs', 'n-FhUzPt', 'n-ZWsd7Z']},\n",
       "  'n-Oq1vCg': {'type': 'story',\n",
       "   'data': {'storyTheme': 'r-aNiReL'},\n",
       "   'config': {'coverDate': 'first-published'},\n",
       "   'children': ['n-w2Q8LD', 'n-NycJq7', 'n-LoRsNy', 'n-rSKFB1']}},\n",
       " 'resources': {'r-63a1f292464f49e3be994fe0d598986e': {'type': 'webmap',\n",
       "   'data': {'extent': {'spatialReference': {'latestWkid': 3857,\n",
       "      'wkid': 102100},\n",
       "     'xmin': -71432.75969843859,\n",
       "     'ymin': 6758526.311609101,\n",
       "     'xmax': -68740.74310844911,\n",
       "     'ymax': 6760040.72023204},\n",
       "    'center': {'spatialReference': {'latestWkid': 3857, 'wkid': 102100},\n",
       "     'x': -70086.75140344385,\n",
       "     'y': 6759283.51592057},\n",
       "    'zoom': 16,\n",
       "    'viewpoint': {'rotation': 0,\n",
       "     'scale': 9027.977411,\n",
       "     'targetGeometry': {'spatialReference': {'latestWkid': 3857,\n",
       "       'wkid': 102100},\n",
       "      'x': -70086.75140344385,\n",
       "      'y': 6759283.51592057}},\n",
       "    'mapLayers': [{'id': '3d4ef70fba394dcfa12fa2837c1e383e',\n",
       "      'title': 'Trees',\n",
       "      'visible': True},\n",
       "     {'id': '6cdf82d391aa4a98b10c56ad8c410abe',\n",
       "      'title': 'Ineligible Land',\n",
       "      'visible': True},\n",
       "     {'id': '397ec125fdcb45f990ddea12332bd95e',\n",
       "      'title': 'Crops',\n",
       "      'visible': True},\n",
       "     {'id': 'a21c10f22cd14f9c8c3c6c7709b36df5',\n",
       "      'title': 'Land Use',\n",
       "      'visible': True},\n",
       "     {'id': 'd04b958c923f47a89e866c6285d62699',\n",
       "      'title': 'Buildings',\n",
       "      'visible': True}],\n",
       "    'itemId': '63a1f292464f49e3be994fe0d598986e',\n",
       "    'itemType': 'Web Map',\n",
       "    'type': 'default'}},\n",
       "  'r-aNiReL': {'type': 'story-theme',\n",
       "   'data': {'themeId': 'summit', 'themeBaseVariableOverrides': {}}}}}"
      ]
     },
     "execution_count": 25,
     "metadata": {},
     "output_type": "execute_result"
    }
   ],
   "source": [
    "data"
   ]
  },
  {
   "cell_type": "code",
   "execution_count": null,
   "metadata": {},
   "outputs": [],
   "source": []
  }
 ],
 "metadata": {
  "kernelspec": {
   "display_name": "Python 3",
   "language": "python",
   "name": "python3"
  },
  "language_info": {
   "codemirror_mode": {
    "name": "ipython",
    "version": 3
   },
   "file_extension": ".py",
   "mimetype": "text/x-python",
   "name": "python",
   "nbconvert_exporter": "python",
   "pygments_lexer": "ipython3",
   "version": "3.7.10"
  }
 },
 "nbformat": 4,
 "nbformat_minor": 4
}
