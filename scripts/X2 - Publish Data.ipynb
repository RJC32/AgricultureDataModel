{
 "cells": [
  {
   "cell_type": "markdown",
   "metadata": {},
   "source": [
    "# Publish Data"
   ]
  },
  {
   "cell_type": "markdown",
   "metadata": {},
   "source": [
    "Publish the data structure to ArcGIS Online"
   ]
  },
  {
   "cell_type": "markdown",
   "metadata": {},
   "source": [
    "#### Import Statements"
   ]
  },
  {
   "cell_type": "code",
   "execution_count": 1,
   "metadata": {},
   "outputs": [
    {
     "name": "stdout",
     "output_type": "stream",
     "text": [
      "Password: ········\n"
     ]
    },
    {
     "data": {
      "text/plain": [
       "{'token': 'KmgfUKIredZ68J3mRatXG-HHgnkS5xHZMxm-Kr0lejgYTMfDjP6BCzEUGBCZwZVQaGJMV8VpAU-YvR2SzokXtZ1S7GuJtdzDfO6ry1W5Ux3whkQPx6QCEhLHHtuZ1T_kkTIFlW9HCFR0LapdmG3DeIPKBF1L4wh4xX61ek_WWTAEu4Kj2W2md9CQ93Rifi2VK1QQleeEuF0tK4zjmCRB3-4-jE9eKyfR8Dj8oK6zDLQ.',\n",
       " 'referer': 'http://www.esri.com/AGO/5224E2FE-95AE-4A6F-BDE4-1B94680D2040',\n",
       " 'expires': 1642688128}"
      ]
     },
     "execution_count": 1,
     "metadata": {},
     "output_type": "execute_result"
    }
   ],
   "source": [
    "# import the arcpy libary\n",
    "import arcpy\n",
    "arcpy.env.overwriteOutput = True\n",
    "\n",
    "import arcgis\n",
    "gis = arcgis.gis.GIS(profile=\"ag\")\n",
    "\n",
    "# import other modules\n",
    "import json\n",
    "import copy\n",
    "import os\n",
    "from getpass import getpass\n",
    "\n",
    "password = getpass('Password: ')\n",
    "arcpy.SignInToPortal('https://www.arcgis.com', 'ag_svcs', password)"
   ]
  },
  {
   "cell_type": "markdown",
   "metadata": {},
   "source": [
    "#### Set output path"
   ]
  },
  {
   "cell_type": "code",
   "execution_count": 2,
   "metadata": {},
   "outputs": [
    {
     "name": "stdout",
     "output_type": "stream",
     "text": [
      "0 - example-farm\n",
      "1 - test\n",
      "Select a output folder: 0\n",
      "Output path: C:\\Users\\rjc.EAGLE\\Documents\\GitHub\\agriculture-data-model\\output\\example-farm\n"
     ]
    }
   ],
   "source": [
    "basePath = r'C:\\Users\\rjc.EAGLE\\Documents\\GitHub\\agriculture-data-model'\n",
    "outputFolders = os.listdir('{0}\\\\output'.format(basePath))\n",
    "\n",
    "n = 0\n",
    "for folder in outputFolders:\n",
    "    print('{0} - {1}'.format(n, folder))\n",
    "    n+=1\n",
    "    \n",
    "selectedFolder = int(input('Select a output folder: '))\n",
    "outputPath = '{0}\\\\output\\\\{1}'.format(basePath, outputFolders[selectedFolder])\n",
    "print('Output path: {0}'.format(outputPath))"
   ]
  },
  {
   "cell_type": "markdown",
   "metadata": {},
   "source": [
    "#### Set paths and load in Data Model"
   ]
  },
  {
   "cell_type": "code",
   "execution_count": 3,
   "metadata": {},
   "outputs": [],
   "source": [
    "data = {}\n",
    "try:    \n",
    "    data.update(json.load(open('{0}\\\\service\\\\{1}.json'.format(outputPath, 'datamodel'))))\n",
    "except Exception as e:\n",
    "    print (e)"
   ]
  },
  {
   "cell_type": "markdown",
   "metadata": {},
   "source": [
    "#### Publish data"
   ]
  },
  {
   "cell_type": "code",
   "execution_count": 4,
   "metadata": {},
   "outputs": [
    {
     "name": "stdout",
     "output_type": "stream",
     "text": [
      "administrative_information\n",
      "  - staging\n",
      "    + completed\n",
      "  - uploading\n",
      "    + completed\n",
      "structures\n",
      "  - staging\n",
      "    + completed\n",
      "  - uploading\n",
      "    + completed\n",
      "operations\n",
      "  - staging\n",
      "    + completed\n",
      "  - uploading\n",
      "    + completed\n",
      "transport\n",
      "  - staging\n",
      "    + completed\n",
      "  - uploading\n",
      "    + completed\n",
      "electric_utilities\n",
      "  - staging\n",
      "    + completed\n",
      "  - uploading\n",
      "    + completed\n",
      "water_utilities\n",
      "  - staging\n",
      "    + completed\n",
      "  - uploading\n",
      "    + completed\n",
      "effluent_utilities\n",
      "  - staging\n",
      "    + completed\n",
      "  - uploading\n",
      "    + completed\n",
      "topographic_features\n",
      "  - staging\n",
      "    + completed\n",
      "  - uploading\n",
      "    + completed\n",
      "miscellaneous\n",
      "  - staging\n",
      "    + completed\n",
      "  - uploading\n",
      "    + completed\n",
      "water\n",
      "  - staging\n",
      "    + completed\n",
      "  - uploading\n",
      "    + completed\n",
      "land\n",
      "  - staging\n",
      "    + completed\n",
      "  - uploading\n",
      "    + completed\n",
      "insights\n",
      "  - staging\n",
      "    + completed\n",
      "  - uploading\n",
      "    + completed\n",
      "activities\n",
      "  - staging\n",
      "    + completed\n",
      "  - uploading\n",
      "    + completed\n",
      "health_and_safety\n",
      "  - staging\n",
      "    + completed\n",
      "  - uploading\n",
      "    + completed\n"
     ]
    }
   ],
   "source": [
    "aprx = arcpy.mp.ArcGISProject('{0}\\\\project\\\\{1}.aprx'.format(basePath, 'publish'))\n",
    "publishMap = aprx.listMaps('Map')[0]\n",
    "\n",
    "n = 0\n",
    "for service in data['services']:\n",
    "    \n",
    "    print(service['name'])    \n",
    "    serviceName = service['name']\n",
    "    serviceDefinitionDraftPath = '{0}\\\\service\\\\{1}.sddraft'.format(outputPath, serviceName)\n",
    "    serviceDefinitionPath = '{0}\\\\service\\\\{1}.sd'.format(outputPath, serviceName)\n",
    "    \n",
    "    layers = publishMap.listLayers()\n",
    "    for layer in layers:\n",
    "        publishMap.removeLayer(layer)\n",
    "    \n",
    "    tables = publishMap.listTables()\n",
    "    for table in tables:\n",
    "        publishMap.removeTable(table)\n",
    "        \n",
    "    for layer in service['layers'][::-1]:\n",
    "        path = '{0}\\\\data\\\\{1}.gdb\\\\{2}'.format(outputPath, serviceName, layer['name'])\n",
    "        publishMap.addDataFromPath(path)\n",
    "        \n",
    "    for table in service['tables'][::-1]:\n",
    "        path = '{0}\\\\data\\\\{1}.gdb\\\\{2}'.format(outputPath, serviceName, table)\n",
    "        publishMap.addDataFromPath(path)\n",
    "        \n",
    "    layers = publishMap.listLayers()\n",
    "    tables = publishMap.listTables()\n",
    "    items = layers + tables\n",
    "    aprx.save()\n",
    "    \n",
    "    serviceDefinitionDraft = publishMap.getWebLayerSharingDraft('HOSTING_SERVER', \"FEATURE\", serviceName, items)\n",
    "    \n",
    "    serviceDefinitionDraft.credits = \"These are credits\"\n",
    "    serviceDefinitionDraft.description = \"This is description\"\n",
    "    serviceDefinitionDraft.summary = \"This is summary\"\n",
    "    serviceDefinitionDraft.tags = \"tag1, tag2\"\n",
    "    serviceDefinitionDraft.useLimitations = \"These are use limitations\"\n",
    "    serviceDefinitionDraft.portalFolder = \"Farm Data\"\n",
    "    serviceDefinitionDraft.allowExporting = False\n",
    "    serviceDefinitionDraft.enableEditing = True\n",
    "    serviceDefinitionDraft.enableSync = True\n",
    "\n",
    "    serviceDefinitionDraft.exportToSDDraft(serviceDefinitionDraftPath)\n",
    "    \n",
    "    print(\"  - staging\")\n",
    "    staged = arcpy.StageService_server(serviceDefinitionDraftPath, serviceDefinitionPath)\n",
    "    print(\"    + completed\")\n",
    "\n",
    "    # Share to portal\n",
    "    print(\"  - uploading\")\n",
    "    uploaded = arcpy.UploadServiceDefinition_server(serviceDefinitionPath, 'HOSTING_SERVER')\n",
    "    data['services'][n]['id'] = uploaded.getOutput(3)\n",
    "    n+=1\n",
    "    print(\"    + completed\")"
   ]
  },
  {
   "cell_type": "markdown",
   "metadata": {},
   "source": [
    "#### Update data model with service id's"
   ]
  },
  {
   "cell_type": "code",
   "execution_count": 5,
   "metadata": {},
   "outputs": [],
   "source": [
    "with open('{0}\\\\service\\\\{1}.json'.format(outputPath, 'datamodel'), 'w') as file:\n",
    "    file.write(json.dumps(data))"
   ]
  },
  {
   "cell_type": "code",
   "execution_count": null,
   "metadata": {},
   "outputs": [],
   "source": []
  }
 ],
 "metadata": {
  "kernelspec": {
   "display_name": "Python 3",
   "language": "python",
   "name": "python3"
  },
  "language_info": {
   "codemirror_mode": {
    "name": "ipython",
    "version": 3
   },
   "file_extension": ".py",
   "mimetype": "text/x-python",
   "name": "python",
   "nbconvert_exporter": "python",
   "pygments_lexer": "ipython3",
   "version": "3.7.10"
  }
 },
 "nbformat": 4,
 "nbformat_minor": 4
}
